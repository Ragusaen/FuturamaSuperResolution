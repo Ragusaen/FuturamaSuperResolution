{
  "nbformat": 4,
  "nbformat_minor": 0,
  "metadata": {
    "accelerator": "GPU",
    "colab": {
      "name": "Futurama Super-resolution.ipynb",
      "provenance": [],
      "collapsed_sections": [],
      "toc_visible": true
    },
    "kernelspec": {
      "display_name": "Python 3",
      "language": "python",
      "name": "python3"
    },
    "language_info": {
      "codemirror_mode": {
        "name": "ipython",
        "version": 3
      },
      "file_extension": ".py",
      "mimetype": "text/x-python",
      "name": "python",
      "nbconvert_exporter": "python",
      "pygments_lexer": "ipython3",
      "version": "3.8.5"
    },
    "widgets": {
      "application/vnd.jupyter.widget-state+json": {
        "e86f6f17529a43fd9e3c2ddfd51d12a2": {
          "model_module": "@jupyter-widgets/controls",
          "model_name": "HBoxModel",
          "state": {
            "_view_name": "HBoxView",
            "_dom_classes": [],
            "_model_name": "HBoxModel",
            "_view_module": "@jupyter-widgets/controls",
            "_model_module_version": "1.5.0",
            "_view_count": null,
            "_view_module_version": "1.5.0",
            "box_style": "",
            "layout": "IPY_MODEL_39a776452218465b905042eb9351ec32",
            "_model_module": "@jupyter-widgets/controls",
            "children": [
              "IPY_MODEL_083ef8fbd4cf47e18149955da842e3ae",
              "IPY_MODEL_6c918e1371bc48ecb09522bee231be17"
            ]
          }
        },
        "39a776452218465b905042eb9351ec32": {
          "model_module": "@jupyter-widgets/base",
          "model_name": "LayoutModel",
          "state": {
            "_view_name": "LayoutView",
            "grid_template_rows": null,
            "right": null,
            "justify_content": null,
            "_view_module": "@jupyter-widgets/base",
            "overflow": null,
            "_model_module_version": "1.2.0",
            "_view_count": null,
            "flex_flow": null,
            "width": null,
            "min_width": null,
            "border": null,
            "align_items": null,
            "bottom": null,
            "_model_module": "@jupyter-widgets/base",
            "top": null,
            "grid_column": null,
            "overflow_y": null,
            "overflow_x": null,
            "grid_auto_flow": null,
            "grid_area": null,
            "grid_template_columns": null,
            "flex": null,
            "_model_name": "LayoutModel",
            "justify_items": null,
            "grid_row": null,
            "max_height": null,
            "align_content": null,
            "visibility": null,
            "align_self": null,
            "height": null,
            "min_height": null,
            "padding": null,
            "grid_auto_rows": null,
            "grid_gap": null,
            "max_width": null,
            "order": null,
            "_view_module_version": "1.2.0",
            "grid_template_areas": null,
            "object_position": null,
            "object_fit": null,
            "grid_auto_columns": null,
            "margin": null,
            "display": null,
            "left": null
          }
        },
        "083ef8fbd4cf47e18149955da842e3ae": {
          "model_module": "@jupyter-widgets/controls",
          "model_name": "FloatProgressModel",
          "state": {
            "_view_name": "ProgressView",
            "style": "IPY_MODEL_d4c316f47f07469684c152462be36e5c",
            "_dom_classes": [],
            "description": "100%",
            "_model_name": "FloatProgressModel",
            "bar_style": "success",
            "max": 31152,
            "_view_module": "@jupyter-widgets/controls",
            "_model_module_version": "1.5.0",
            "value": 31152,
            "_view_count": null,
            "_view_module_version": "1.5.0",
            "orientation": "horizontal",
            "min": 0,
            "description_tooltip": null,
            "_model_module": "@jupyter-widgets/controls",
            "layout": "IPY_MODEL_7492b3d0978a476fa8bddf0baf073821"
          }
        },
        "6c918e1371bc48ecb09522bee231be17": {
          "model_module": "@jupyter-widgets/controls",
          "model_name": "HTMLModel",
          "state": {
            "_view_name": "HTMLView",
            "style": "IPY_MODEL_649838e3d84a47c8917e1094e6c7a828",
            "_dom_classes": [],
            "description": "",
            "_model_name": "HTMLModel",
            "placeholder": "​",
            "_view_module": "@jupyter-widgets/controls",
            "_model_module_version": "1.5.0",
            "value": " 31152/31152 [05:25&lt;00:00, 95.84it/s]",
            "_view_count": null,
            "_view_module_version": "1.5.0",
            "description_tooltip": null,
            "_model_module": "@jupyter-widgets/controls",
            "layout": "IPY_MODEL_39e138860d234b1288c7bf6b36dc2812"
          }
        },
        "d4c316f47f07469684c152462be36e5c": {
          "model_module": "@jupyter-widgets/controls",
          "model_name": "ProgressStyleModel",
          "state": {
            "_view_name": "StyleView",
            "_model_name": "ProgressStyleModel",
            "description_width": "initial",
            "_view_module": "@jupyter-widgets/base",
            "_model_module_version": "1.5.0",
            "_view_count": null,
            "_view_module_version": "1.2.0",
            "bar_color": null,
            "_model_module": "@jupyter-widgets/controls"
          }
        },
        "7492b3d0978a476fa8bddf0baf073821": {
          "model_module": "@jupyter-widgets/base",
          "model_name": "LayoutModel",
          "state": {
            "_view_name": "LayoutView",
            "grid_template_rows": null,
            "right": null,
            "justify_content": null,
            "_view_module": "@jupyter-widgets/base",
            "overflow": null,
            "_model_module_version": "1.2.0",
            "_view_count": null,
            "flex_flow": null,
            "width": null,
            "min_width": null,
            "border": null,
            "align_items": null,
            "bottom": null,
            "_model_module": "@jupyter-widgets/base",
            "top": null,
            "grid_column": null,
            "overflow_y": null,
            "overflow_x": null,
            "grid_auto_flow": null,
            "grid_area": null,
            "grid_template_columns": null,
            "flex": null,
            "_model_name": "LayoutModel",
            "justify_items": null,
            "grid_row": null,
            "max_height": null,
            "align_content": null,
            "visibility": null,
            "align_self": null,
            "height": null,
            "min_height": null,
            "padding": null,
            "grid_auto_rows": null,
            "grid_gap": null,
            "max_width": null,
            "order": null,
            "_view_module_version": "1.2.0",
            "grid_template_areas": null,
            "object_position": null,
            "object_fit": null,
            "grid_auto_columns": null,
            "margin": null,
            "display": null,
            "left": null
          }
        },
        "649838e3d84a47c8917e1094e6c7a828": {
          "model_module": "@jupyter-widgets/controls",
          "model_name": "DescriptionStyleModel",
          "state": {
            "_view_name": "StyleView",
            "_model_name": "DescriptionStyleModel",
            "description_width": "",
            "_view_module": "@jupyter-widgets/base",
            "_model_module_version": "1.5.0",
            "_view_count": null,
            "_view_module_version": "1.2.0",
            "_model_module": "@jupyter-widgets/controls"
          }
        },
        "39e138860d234b1288c7bf6b36dc2812": {
          "model_module": "@jupyter-widgets/base",
          "model_name": "LayoutModel",
          "state": {
            "_view_name": "LayoutView",
            "grid_template_rows": null,
            "right": null,
            "justify_content": null,
            "_view_module": "@jupyter-widgets/base",
            "overflow": null,
            "_model_module_version": "1.2.0",
            "_view_count": null,
            "flex_flow": null,
            "width": null,
            "min_width": null,
            "border": null,
            "align_items": null,
            "bottom": null,
            "_model_module": "@jupyter-widgets/base",
            "top": null,
            "grid_column": null,
            "overflow_y": null,
            "overflow_x": null,
            "grid_auto_flow": null,
            "grid_area": null,
            "grid_template_columns": null,
            "flex": null,
            "_model_name": "LayoutModel",
            "justify_items": null,
            "grid_row": null,
            "max_height": null,
            "align_content": null,
            "visibility": null,
            "align_self": null,
            "height": null,
            "min_height": null,
            "padding": null,
            "grid_auto_rows": null,
            "grid_gap": null,
            "max_width": null,
            "order": null,
            "_view_module_version": "1.2.0",
            "grid_template_areas": null,
            "object_position": null,
            "object_fit": null,
            "grid_auto_columns": null,
            "margin": null,
            "display": null,
            "left": null
          }
        },
        "c64de03b6e8d4ef8a62324d55c9ca3ab": {
          "model_module": "@jupyter-widgets/controls",
          "model_name": "HBoxModel",
          "state": {
            "_view_name": "HBoxView",
            "_dom_classes": [],
            "_model_name": "HBoxModel",
            "_view_module": "@jupyter-widgets/controls",
            "_model_module_version": "1.5.0",
            "_view_count": null,
            "_view_module_version": "1.5.0",
            "box_style": "",
            "layout": "IPY_MODEL_5e405b6157334f8985de00565c8e4724",
            "_model_module": "@jupyter-widgets/controls",
            "children": [
              "IPY_MODEL_86f14f9d3e0149b9abb382f19e7394b1",
              "IPY_MODEL_e28ec762b2174d75a38f3f6ce4697222"
            ]
          }
        },
        "5e405b6157334f8985de00565c8e4724": {
          "model_module": "@jupyter-widgets/base",
          "model_name": "LayoutModel",
          "state": {
            "_view_name": "LayoutView",
            "grid_template_rows": null,
            "right": null,
            "justify_content": null,
            "_view_module": "@jupyter-widgets/base",
            "overflow": null,
            "_model_module_version": "1.2.0",
            "_view_count": null,
            "flex_flow": null,
            "width": null,
            "min_width": null,
            "border": null,
            "align_items": null,
            "bottom": null,
            "_model_module": "@jupyter-widgets/base",
            "top": null,
            "grid_column": null,
            "overflow_y": null,
            "overflow_x": null,
            "grid_auto_flow": null,
            "grid_area": null,
            "grid_template_columns": null,
            "flex": null,
            "_model_name": "LayoutModel",
            "justify_items": null,
            "grid_row": null,
            "max_height": null,
            "align_content": null,
            "visibility": null,
            "align_self": null,
            "height": null,
            "min_height": null,
            "padding": null,
            "grid_auto_rows": null,
            "grid_gap": null,
            "max_width": null,
            "order": null,
            "_view_module_version": "1.2.0",
            "grid_template_areas": null,
            "object_position": null,
            "object_fit": null,
            "grid_auto_columns": null,
            "margin": null,
            "display": null,
            "left": null
          }
        },
        "86f14f9d3e0149b9abb382f19e7394b1": {
          "model_module": "@jupyter-widgets/controls",
          "model_name": "FloatProgressModel",
          "state": {
            "_view_name": "ProgressView",
            "style": "IPY_MODEL_1f014c4d267249b9aa5a98710b0e63b9",
            "_dom_classes": [],
            "description": "100%",
            "_model_name": "FloatProgressModel",
            "bar_style": "success",
            "max": 244,
            "_view_module": "@jupyter-widgets/controls",
            "_model_module_version": "1.5.0",
            "value": 244,
            "_view_count": null,
            "_view_module_version": "1.5.0",
            "orientation": "horizontal",
            "min": 0,
            "description_tooltip": null,
            "_model_module": "@jupyter-widgets/controls",
            "layout": "IPY_MODEL_f961d5c692be43a5bb9ecadb1cdb444a"
          }
        },
        "e28ec762b2174d75a38f3f6ce4697222": {
          "model_module": "@jupyter-widgets/controls",
          "model_name": "HTMLModel",
          "state": {
            "_view_name": "HTMLView",
            "style": "IPY_MODEL_1852e8f8338942b786acd7e4512d384e",
            "_dom_classes": [],
            "description": "",
            "_model_name": "HTMLModel",
            "placeholder": "​",
            "_view_module": "@jupyter-widgets/controls",
            "_model_module_version": "1.5.0",
            "value": " 244/244 [01:36&lt;00:00,  2.54it/s]",
            "_view_count": null,
            "_view_module_version": "1.5.0",
            "description_tooltip": null,
            "_model_module": "@jupyter-widgets/controls",
            "layout": "IPY_MODEL_a15bfcca2edd4146a772d48e5f0dd0c1"
          }
        },
        "1f014c4d267249b9aa5a98710b0e63b9": {
          "model_module": "@jupyter-widgets/controls",
          "model_name": "ProgressStyleModel",
          "state": {
            "_view_name": "StyleView",
            "_model_name": "ProgressStyleModel",
            "description_width": "initial",
            "_view_module": "@jupyter-widgets/base",
            "_model_module_version": "1.5.0",
            "_view_count": null,
            "_view_module_version": "1.2.0",
            "bar_color": null,
            "_model_module": "@jupyter-widgets/controls"
          }
        },
        "f961d5c692be43a5bb9ecadb1cdb444a": {
          "model_module": "@jupyter-widgets/base",
          "model_name": "LayoutModel",
          "state": {
            "_view_name": "LayoutView",
            "grid_template_rows": null,
            "right": null,
            "justify_content": null,
            "_view_module": "@jupyter-widgets/base",
            "overflow": null,
            "_model_module_version": "1.2.0",
            "_view_count": null,
            "flex_flow": null,
            "width": null,
            "min_width": null,
            "border": null,
            "align_items": null,
            "bottom": null,
            "_model_module": "@jupyter-widgets/base",
            "top": null,
            "grid_column": null,
            "overflow_y": null,
            "overflow_x": null,
            "grid_auto_flow": null,
            "grid_area": null,
            "grid_template_columns": null,
            "flex": null,
            "_model_name": "LayoutModel",
            "justify_items": null,
            "grid_row": null,
            "max_height": null,
            "align_content": null,
            "visibility": null,
            "align_self": null,
            "height": null,
            "min_height": null,
            "padding": null,
            "grid_auto_rows": null,
            "grid_gap": null,
            "max_width": null,
            "order": null,
            "_view_module_version": "1.2.0",
            "grid_template_areas": null,
            "object_position": null,
            "object_fit": null,
            "grid_auto_columns": null,
            "margin": null,
            "display": null,
            "left": null
          }
        },
        "1852e8f8338942b786acd7e4512d384e": {
          "model_module": "@jupyter-widgets/controls",
          "model_name": "DescriptionStyleModel",
          "state": {
            "_view_name": "StyleView",
            "_model_name": "DescriptionStyleModel",
            "description_width": "",
            "_view_module": "@jupyter-widgets/base",
            "_model_module_version": "1.5.0",
            "_view_count": null,
            "_view_module_version": "1.2.0",
            "_model_module": "@jupyter-widgets/controls"
          }
        },
        "a15bfcca2edd4146a772d48e5f0dd0c1": {
          "model_module": "@jupyter-widgets/base",
          "model_name": "LayoutModel",
          "state": {
            "_view_name": "LayoutView",
            "grid_template_rows": null,
            "right": null,
            "justify_content": null,
            "_view_module": "@jupyter-widgets/base",
            "overflow": null,
            "_model_module_version": "1.2.0",
            "_view_count": null,
            "flex_flow": null,
            "width": null,
            "min_width": null,
            "border": null,
            "align_items": null,
            "bottom": null,
            "_model_module": "@jupyter-widgets/base",
            "top": null,
            "grid_column": null,
            "overflow_y": null,
            "overflow_x": null,
            "grid_auto_flow": null,
            "grid_area": null,
            "grid_template_columns": null,
            "flex": null,
            "_model_name": "LayoutModel",
            "justify_items": null,
            "grid_row": null,
            "max_height": null,
            "align_content": null,
            "visibility": null,
            "align_self": null,
            "height": null,
            "min_height": null,
            "padding": null,
            "grid_auto_rows": null,
            "grid_gap": null,
            "max_width": null,
            "order": null,
            "_view_module_version": "1.2.0",
            "grid_template_areas": null,
            "object_position": null,
            "object_fit": null,
            "grid_auto_columns": null,
            "margin": null,
            "display": null,
            "left": null
          }
        },
        "2e6d5a4c8be945e5aa2d83885f13c400": {
          "model_module": "@jupyter-widgets/controls",
          "model_name": "HBoxModel",
          "state": {
            "_view_name": "HBoxView",
            "_dom_classes": [],
            "_model_name": "HBoxModel",
            "_view_module": "@jupyter-widgets/controls",
            "_model_module_version": "1.5.0",
            "_view_count": null,
            "_view_module_version": "1.5.0",
            "box_style": "",
            "layout": "IPY_MODEL_ca41a502284842e497deae777f197e96",
            "_model_module": "@jupyter-widgets/controls",
            "children": [
              "IPY_MODEL_c6325c0e129c44b4a279bcf07a4649d5",
              "IPY_MODEL_a2ae75bb715c493f8970e3d3dd5fe281"
            ]
          }
        },
        "ca41a502284842e497deae777f197e96": {
          "model_module": "@jupyter-widgets/base",
          "model_name": "LayoutModel",
          "state": {
            "_view_name": "LayoutView",
            "grid_template_rows": null,
            "right": null,
            "justify_content": null,
            "_view_module": "@jupyter-widgets/base",
            "overflow": null,
            "_model_module_version": "1.2.0",
            "_view_count": null,
            "flex_flow": null,
            "width": null,
            "min_width": null,
            "border": null,
            "align_items": null,
            "bottom": null,
            "_model_module": "@jupyter-widgets/base",
            "top": null,
            "grid_column": null,
            "overflow_y": null,
            "overflow_x": null,
            "grid_auto_flow": null,
            "grid_area": null,
            "grid_template_columns": null,
            "flex": null,
            "_model_name": "LayoutModel",
            "justify_items": null,
            "grid_row": null,
            "max_height": null,
            "align_content": null,
            "visibility": null,
            "align_self": null,
            "height": null,
            "min_height": null,
            "padding": null,
            "grid_auto_rows": null,
            "grid_gap": null,
            "max_width": null,
            "order": null,
            "_view_module_version": "1.2.0",
            "grid_template_areas": null,
            "object_position": null,
            "object_fit": null,
            "grid_auto_columns": null,
            "margin": null,
            "display": null,
            "left": null
          }
        },
        "c6325c0e129c44b4a279bcf07a4649d5": {
          "model_module": "@jupyter-widgets/controls",
          "model_name": "FloatProgressModel",
          "state": {
            "_view_name": "ProgressView",
            "style": "IPY_MODEL_c5fb444e0cfd4025b7962709cd4d124a",
            "_dom_classes": [],
            "description": "100%",
            "_model_name": "FloatProgressModel",
            "bar_style": "success",
            "max": 244,
            "_view_module": "@jupyter-widgets/controls",
            "_model_module_version": "1.5.0",
            "value": 244,
            "_view_count": null,
            "_view_module_version": "1.5.0",
            "orientation": "horizontal",
            "min": 0,
            "description_tooltip": null,
            "_model_module": "@jupyter-widgets/controls",
            "layout": "IPY_MODEL_340915558c81434885f812e55c58a9ec"
          }
        },
        "a2ae75bb715c493f8970e3d3dd5fe281": {
          "model_module": "@jupyter-widgets/controls",
          "model_name": "HTMLModel",
          "state": {
            "_view_name": "HTMLView",
            "style": "IPY_MODEL_489f113ddd254f81acf09a52d63174f0",
            "_dom_classes": [],
            "description": "",
            "_model_name": "HTMLModel",
            "placeholder": "​",
            "_view_module": "@jupyter-widgets/controls",
            "_model_module_version": "1.5.0",
            "value": " 244/244 [01:35&lt;00:00,  2.55it/s]",
            "_view_count": null,
            "_view_module_version": "1.5.0",
            "description_tooltip": null,
            "_model_module": "@jupyter-widgets/controls",
            "layout": "IPY_MODEL_f812199881394f989cf52dc42f154474"
          }
        },
        "c5fb444e0cfd4025b7962709cd4d124a": {
          "model_module": "@jupyter-widgets/controls",
          "model_name": "ProgressStyleModel",
          "state": {
            "_view_name": "StyleView",
            "_model_name": "ProgressStyleModel",
            "description_width": "initial",
            "_view_module": "@jupyter-widgets/base",
            "_model_module_version": "1.5.0",
            "_view_count": null,
            "_view_module_version": "1.2.0",
            "bar_color": null,
            "_model_module": "@jupyter-widgets/controls"
          }
        },
        "340915558c81434885f812e55c58a9ec": {
          "model_module": "@jupyter-widgets/base",
          "model_name": "LayoutModel",
          "state": {
            "_view_name": "LayoutView",
            "grid_template_rows": null,
            "right": null,
            "justify_content": null,
            "_view_module": "@jupyter-widgets/base",
            "overflow": null,
            "_model_module_version": "1.2.0",
            "_view_count": null,
            "flex_flow": null,
            "width": null,
            "min_width": null,
            "border": null,
            "align_items": null,
            "bottom": null,
            "_model_module": "@jupyter-widgets/base",
            "top": null,
            "grid_column": null,
            "overflow_y": null,
            "overflow_x": null,
            "grid_auto_flow": null,
            "grid_area": null,
            "grid_template_columns": null,
            "flex": null,
            "_model_name": "LayoutModel",
            "justify_items": null,
            "grid_row": null,
            "max_height": null,
            "align_content": null,
            "visibility": null,
            "align_self": null,
            "height": null,
            "min_height": null,
            "padding": null,
            "grid_auto_rows": null,
            "grid_gap": null,
            "max_width": null,
            "order": null,
            "_view_module_version": "1.2.0",
            "grid_template_areas": null,
            "object_position": null,
            "object_fit": null,
            "grid_auto_columns": null,
            "margin": null,
            "display": null,
            "left": null
          }
        },
        "489f113ddd254f81acf09a52d63174f0": {
          "model_module": "@jupyter-widgets/controls",
          "model_name": "DescriptionStyleModel",
          "state": {
            "_view_name": "StyleView",
            "_model_name": "DescriptionStyleModel",
            "description_width": "",
            "_view_module": "@jupyter-widgets/base",
            "_model_module_version": "1.5.0",
            "_view_count": null,
            "_view_module_version": "1.2.0",
            "_model_module": "@jupyter-widgets/controls"
          }
        },
        "f812199881394f989cf52dc42f154474": {
          "model_module": "@jupyter-widgets/base",
          "model_name": "LayoutModel",
          "state": {
            "_view_name": "LayoutView",
            "grid_template_rows": null,
            "right": null,
            "justify_content": null,
            "_view_module": "@jupyter-widgets/base",
            "overflow": null,
            "_model_module_version": "1.2.0",
            "_view_count": null,
            "flex_flow": null,
            "width": null,
            "min_width": null,
            "border": null,
            "align_items": null,
            "bottom": null,
            "_model_module": "@jupyter-widgets/base",
            "top": null,
            "grid_column": null,
            "overflow_y": null,
            "overflow_x": null,
            "grid_auto_flow": null,
            "grid_area": null,
            "grid_template_columns": null,
            "flex": null,
            "_model_name": "LayoutModel",
            "justify_items": null,
            "grid_row": null,
            "max_height": null,
            "align_content": null,
            "visibility": null,
            "align_self": null,
            "height": null,
            "min_height": null,
            "padding": null,
            "grid_auto_rows": null,
            "grid_gap": null,
            "max_width": null,
            "order": null,
            "_view_module_version": "1.2.0",
            "grid_template_areas": null,
            "object_position": null,
            "object_fit": null,
            "grid_auto_columns": null,
            "margin": null,
            "display": null,
            "left": null
          }
        }
      }
    }
  },
  "cells": [
    {
      "cell_type": "markdown",
      "metadata": {
        "id": "YO1SOtFPZwHG"
      },
      "source": [
        "# Futurama Super-resolution\n",
        "This project will aim to create higher resolution versions of early Futurama episodes. Luckily, the later seasons are in 1080p, and will therefore be used to generate ground truth and from them downscaled inputs can be generated.\n",
        "\n",
        "First, we need to generate the training data. This will be done by converting futurama episodes into a set of images. Initially, let's start by attempting to do superresolution on 64x64 -> 128x128 squares of the image. Since the old episodes are in the format 640x480, I think a resolution of 1280x960 would be good enough. So the order of increase in resolution is 4 times as many pixels."
      ]
    },
    {
      "cell_type": "code",
      "metadata": {
        "id": "bfly8XV2ZwHK"
      },
      "source": [
        "import cv2, random, os\n",
        "import torch\n",
        "import torch.nn as nn\n",
        "from PIL import Image\n",
        "from torch.utils.data import Dataset\n",
        "import numpy as np\n",
        "from torch.utils.data import DataLoader\n",
        "from torchvision.transforms import Compose, Normalize, Grayscale\n",
        "from tqdm.notebook import tqdm\n",
        "from torchvision.utils import make_grid\n",
        "import matplotlib.pyplot as plt\n",
        "%matplotlib inline\n",
        "import math\n",
        "\n",
        "low_resolution = (64, 64)\n",
        "high_resolution = (128, 128)"
      ],
      "execution_count": null,
      "outputs": []
    },
    {
      "cell_type": "markdown",
      "metadata": {
        "id": "Ibk37sk8ZwHL"
      },
      "source": [
        "## Generating training data\n",
        "Now we need to create the data. This is done by grabbing random crops of a Futurama episode.\n",
        "![Futurma shot crop](https://github.com/Ragusaen/FuturamaSuperResolution/blob/main/resources/futurama_shot.png?raw=1)\n",
        "\n",
        "The cropped image is then downscaled to a lower resolution, which will be the input and then the high resolution is the target for the model.\n",
        "\n",
        "High resolution                                          | Low resolution (downscaled)\n",
        ":-------------------------------------------------------:|:----------------------------------------------------:\n",
        "![Shot crop high resolution](https://github.com/Ragusaen/FuturamaSuperResolution/blob/main/resources/highres_crop.png?raw=1) | ![Shot crop low resolution](https://github.com/Ragusaen/FuturamaSuperResolution/blob/main/resources/lowres_crop.png?raw=1)"
      ]
    },
    {
      "cell_type": "code",
      "metadata": {
        "colab": {
          "base_uri": "https://localhost:8080/"
        },
        "id": "7dU_y-f1uGWe",
        "outputId": "1f13468c-79ec-4f9c-b9ac-72594dec0df1"
      },
      "source": [
        "from google.colab import drive\n",
        "drive.mount('/content/drive')"
      ],
      "execution_count": null,
      "outputs": [
        {
          "output_type": "stream",
          "text": [
            "Mounted at /content/drive\n"
          ],
          "name": "stdout"
        }
      ]
    },
    {
      "cell_type": "code",
      "metadata": {
        "colab": {
          "base_uri": "https://localhost:8080/",
          "height": 66,
          "referenced_widgets": [
            "e86f6f17529a43fd9e3c2ddfd51d12a2",
            "39a776452218465b905042eb9351ec32",
            "083ef8fbd4cf47e18149955da842e3ae",
            "6c918e1371bc48ecb09522bee231be17",
            "d4c316f47f07469684c152462be36e5c",
            "7492b3d0978a476fa8bddf0baf073821",
            "649838e3d84a47c8917e1094e6c7a828",
            "39e138860d234b1288c7bf6b36dc2812"
          ]
        },
        "id": "RRnFP4R-ZwHL",
        "outputId": "639184e9-0f1a-4baf-ba0d-6a2096919596"
      },
      "source": [
        "def img_to_tensor(img):\n",
        "    return torch.from_numpy(np.asarray(img)).permute(2,0,1)[[2,1,0], :, :].float() / 256.0\n",
        "\n",
        "if not os.path.exists('highres'):\n",
        "    os.makedirs('highres')\n",
        "    \n",
        "if not os.path.exists('lowres'):\n",
        "    os.makedirs('lowres')\n",
        "\n",
        "cap = cv2.VideoCapture(\"/content/drive/MyDrive/Colab Notebooks/video/sample0.mkv\")\n",
        "\n",
        "s, frame0 = cap.read()\n",
        "\n",
        "# Skip the first 100 frames\n",
        "#cap.set(cv2.CAP_PROP_POS_FRAMES, 1000)\n",
        "\n",
        "cw, ch = high_resolution\n",
        "\n",
        "max_start_crop_x, max_start_crop_y = (frame0.shape[1] - cw, frame0.shape[0] - ch)\n",
        "\n",
        "frames = int(cap.get(cv2.CAP_PROP_FRAME_COUNT) - 5)\n",
        "\n",
        "lowres_data = torch.zeros((frames,3,64,64))\n",
        "highres_data = torch.zeros((frames,3,128,128))\n",
        "\n",
        "i=0\n",
        "for _ in tqdm(range(frames)):\n",
        "    if not cap.isOpened():\n",
        "        break\n",
        "    \n",
        "    ret, frame = cap.read()\n",
        "\n",
        "    if frame is None:\n",
        "      continue\n",
        "    \n",
        "    cx = random.randint(0, max_start_crop_x)\n",
        "    cy = random.randint(0, max_start_crop_y)\n",
        "    \n",
        "    crop = frame[cy:(cy+ch), cx:(cx+cw)]\n",
        "    lowres_crop = cv2.resize(crop, low_resolution, interpolation=cv2.INTER_AREA)\n",
        "    #lowres_upscaled = cv2.resize(lowres_crop, high_resolution, interpolation=cv2.INTER_CUBIC)\n",
        "\n",
        "    lowres_data[i] = img_to_tensor(lowres_crop)\n",
        "    highres_data[i] = img_to_tensor(crop)\n",
        "    i += 1\n",
        "\n",
        "cap.release()"
      ],
      "execution_count": null,
      "outputs": [
        {
          "output_type": "display_data",
          "data": {
            "application/vnd.jupyter.widget-view+json": {
              "model_id": "e86f6f17529a43fd9e3c2ddfd51d12a2",
              "version_minor": 0,
              "version_major": 2
            },
            "text/plain": [
              "HBox(children=(FloatProgress(value=0.0, max=31152.0), HTML(value='')))"
            ]
          },
          "metadata": {
            "tags": []
          }
        },
        {
          "output_type": "stream",
          "text": [
            "\n"
          ],
          "name": "stdout"
        }
      ]
    },
    {
      "cell_type": "markdown",
      "metadata": {
        "id": "hWKk2XIQZwHL"
      },
      "source": [
        "### Loading data to tensors\n",
        "Next up, we need to load this data into the tensor format for use in pytorch. We define our own dataset `ImageInputTargetDataset`, which will be able to generate input-target datapoints from images in two different folders."
      ]
    },
    {
      "cell_type": "code",
      "metadata": {
        "colab": {
          "base_uri": "https://localhost:8080/"
        },
        "id": "Ot85nPq8vojJ",
        "outputId": "6781502b-91aa-477a-878c-b69fd368f81b"
      },
      "source": [
        "if torch.cuda.is_available():\n",
        "    device = torch.device('cuda')\n",
        "else:\n",
        "    device = torch.device('cpu')\n",
        "\n",
        "def to_device(data, device):\n",
        "    \"\"\"Move tensor(s) to chosen device\"\"\"\n",
        "    if isinstance(data, (list,tuple)):\n",
        "        return [to_device(x, device) for x in data]\n",
        "    return data.to(device, non_blocking=True)\n",
        "\n",
        "class DeviceDataLoader():\n",
        "    \"\"\"Wrap a dataloader to move data to a device\"\"\"\n",
        "    def __init__(self, dl, device):\n",
        "        self.dl = dl\n",
        "        self.device = device\n",
        "        \n",
        "    def __iter__(self):\n",
        "        \"\"\"Yield a batch of data after moving it to device\"\"\"\n",
        "        for b in self.dl: \n",
        "            yield to_device(b, self.device)\n",
        "\n",
        "    def __len__(self):\n",
        "        \"\"\"Number of batches\"\"\"\n",
        "        return len(self.dl)\n",
        "\n",
        "device"
      ],
      "execution_count": null,
      "outputs": [
        {
          "output_type": "execute_result",
          "data": {
            "text/plain": [
              "device(type='cuda')"
            ]
          },
          "metadata": {
            "tags": []
          },
          "execution_count": 4
        }
      ]
    },
    {
      "cell_type": "code",
      "metadata": {
        "id": "Q4IwYMZtZwHM"
      },
      "source": [
        "def imgpath_to_tensor(img_path):\n",
        "    return img_to_tensor(cv2.imread(img_path))\n",
        "    \n",
        "class ImageInputTargetDataset(Dataset):\n",
        "\n",
        "    def __init__(self, input_tensor, target_tensor, transform=None):\n",
        "        self.input = input_tensor\n",
        "        self.target = target_tensor\n",
        "        self.transform = transform\n",
        "    \n",
        "    def __len__(self):\n",
        "        return len(self.input)\n",
        "\n",
        "    def __getitem__(self, idx):\n",
        "        input = self.input[idx]\n",
        "        target = self.target[idx]\n",
        "\n",
        "        if self.transform:\n",
        "            input = self.transform(input)\n",
        "            target = self.transform(target)\n",
        "\n",
        "        return [input, target]"
      ],
      "execution_count": null,
      "outputs": []
    },
    {
      "cell_type": "markdown",
      "metadata": {
        "id": "dkM0XwF3ZwHM"
      },
      "source": [
        "With this dataset format defined, we can create a `DataLoader` for it. This class can load the datapoints in batches."
      ]
    },
    {
      "cell_type": "code",
      "metadata": {
        "colab": {
          "base_uri": "https://localhost:8080/",
          "height": 35
        },
        "id": "3vOku6ngZwHM",
        "outputId": "0110929c-9659-4f96-e5e2-2b74a046dfa3"
      },
      "source": [
        "batch_size = 128\n",
        "\n",
        "dataset = ImageInputTargetDataset(lowres_data, highres_data,\n",
        "                                  transform=Normalize((0.5, 0.5, 0.5), (0.5, 0.5, 0.5)))\n",
        "\n",
        "dataloader = DeviceDataLoader(DataLoader(dataset, batch_size=batch_size, shuffle=True), device)\n",
        "\n",
        "loss_fun = nn.MSELoss()\n",
        "to_device(loss_fun, device)\n",
        ";"
      ],
      "execution_count": null,
      "outputs": [
        {
          "output_type": "execute_result",
          "data": {
            "application/vnd.google.colaboratory.intrinsic+json": {
              "type": "string"
            },
            "text/plain": [
              "''"
            ]
          },
          "metadata": {
            "tags": []
          },
          "execution_count": 6
        }
      ]
    },
    {
      "cell_type": "code",
      "metadata": {
        "id": "pSHk4udBZwHM"
      },
      "source": [
        "def denorm(img_tensors):\n",
        "    return img_tensors * 0.5 + 0.5\n",
        "\n",
        "\n",
        "upscale_factor = high_resolution[0]/low_resolution[0]\n",
        "upsample = nn.Upsample(scale_factor=upscale_factor, mode='bilinear', align_corners=False)\n",
        "\n",
        "def display_imgs(imgs):\n",
        "    _, axs = plt.subplots(1,len(imgs), figsize=(4*len(imgs),4))\n",
        "    for i in range(len(imgs)):\n",
        "        axs[i].imshow(denorm(imgs[i].cpu()).permute(1,2,0), cmap='gray')"
      ],
      "execution_count": null,
      "outputs": []
    },
    {
      "cell_type": "code",
      "metadata": {
        "colab": {
          "base_uri": "https://localhost:8080/",
          "height": 271
        },
        "id": "aQkkA-2IZwHM",
        "outputId": "611025ae-f23b-4ad9-c826-036e83a78e97"
      },
      "source": [
        "for lr, hr in dataloader:\n",
        "    print(\"Bilinear loss: \", loss_fun(upsample(lr)[0], hr[0]).item())\n",
        "    display_imgs([lr[0].cpu(), hr[0].cpu()])\n",
        "    break"
      ],
      "execution_count": null,
      "outputs": [
        {
          "output_type": "stream",
          "text": [
            "Bilinear loss:  0.0004935362376272678\n"
          ],
          "name": "stdout"
        },
        {
          "output_type": "display_data",
          "data": {
            "image/png": "[encoded data removed]",
            "text/plain": [
              "<Figure size 576x288 with 2 Axes>"
            ]
          },
          "metadata": {
            "tags": [],
            "needs_background": "light"
          }
        }
      ]
    },
    {
      "cell_type": "markdown",
      "metadata": {
        "id": "3MbHlWxKZwHN"
      },
      "source": [
        "## Creating the model \n",
        "The model that we will use is a simple transpose convolutional neural network."
      ]
    },
    {
      "cell_type": "code",
      "metadata": {
        "id": "fOfntOQzZwHN"
      },
      "source": [
        "class ConvSubPixel(nn.Module):\n",
        "    \"\"\"This is the first working attempt model, it uses convolutional \n",
        "    layers and then a subpixel convolution.\n",
        "    \"\"\"\n",
        "    \n",
        "    def __init__(self):\n",
        "        super().__init__()\n",
        "\n",
        "        self.conv1 = nn.Sequential(\n",
        "            nn.Conv2d(3, 24, kernel_size=9, stride=1, padding=4),\n",
        "            nn.BatchNorm2d(24),\n",
        "            nn.PReLU()\n",
        "        )\n",
        "\n",
        "        self.resconv = nn.Sequential(\n",
        "            nn.Conv2d(24, 24, kernel_size=5, stride=1, padding=2),\n",
        "            nn.BatchNorm2d(24),\n",
        "            nn.PReLU(),\n",
        "\n",
        "            nn.Conv2d(24, 24, kernel_size=3, stride=1, padding=1),\n",
        "            nn.BatchNorm2d(24),\n",
        "            nn.PReLU()\n",
        "        )\n",
        "        \n",
        "        # 3072x4x4\n",
        "        self.sub_pixel = nn.Sequential(\n",
        "            nn.Conv2d(24, 96, kernel_size=3, stride=1, padding=1),\n",
        "            nn.BatchNorm2d(96),\n",
        "            nn.PReLU(),\n",
        "\n",
        "            nn.PixelShuffle(2)\n",
        "        )\n",
        "\n",
        "        self.convf = nn.Sequential(\n",
        "            nn.Conv2d(24, 3, kernel_size=3, stride=1, padding=1)\n",
        "        )\n",
        "        \n",
        "        self.final = nn.Tanh()\n",
        "\n",
        "        self.upsample = upsample\n",
        "        \n",
        "\n",
        "    def forward(self, xb):\n",
        "        upsampled = torch.atan(self.upsample(xb))\n",
        "\n",
        "        out = self.conv1(xb)\n",
        "        out = self.resconv(out) + out\n",
        "        out = self.sub_pixel(out)\n",
        "        out = self.convf(out)\n",
        "        out = self.final(out + upsampled)\n",
        "\n",
        "        #out = torch.clamp(out, -1.0, 1.0)\n",
        "        \n",
        "        return out"
      ],
      "execution_count": null,
      "outputs": []
    },
    {
      "cell_type": "code",
      "metadata": {
        "id": "gsYCqbPTck_G"
      },
      "source": [
        "class Discriminator(nn.Module):\n",
        "    def __init__(self):\n",
        "        super().__init__()\n",
        "        self.conv = nn.Sequential(\n",
        "            nn.Conv2d(3, 16, kernel_size=4, stride=2, padding=1),\n",
        "            nn.BatchNorm2d(16),\n",
        "            nn.PReLU(),\n",
        "\n",
        "            nn.Conv2d(16, 16, kernel_size=4, stride=2, padding=1),\n",
        "            nn.BatchNorm2d(16),\n",
        "            nn.PReLU(),\n",
        "\n",
        "            nn.Conv2d(16, 16, kernel_size=4, stride=2, padding=1),\n",
        "            nn.BatchNorm2d(16),\n",
        "            nn.PReLU(),\n",
        "            \n",
        "            nn.Conv2d(16, 16, kernel_size=4, stride=2, padding=1),\n",
        "            nn.BatchNorm2d(16),\n",
        "            nn.PReLU(),\n",
        "\n",
        "            nn.Conv2d(16, 32, kernel_size=4, stride=2, padding=1),\n",
        "            nn.BatchNorm2d(32),\n",
        "            nn.PReLU(),\n",
        "\n",
        "            nn.Conv2d(32, 64, kernel_size=4, stride=2, padding=1),\n",
        "            nn.BatchNorm2d(64),\n",
        "            nn.PReLU(),\n",
        "\n",
        "            nn.Conv2d(64, 128, kernel_size=4, stride=2, padding=1),\n",
        "            nn.BatchNorm2d(128),\n",
        "            nn.PReLU(),\n",
        "\n",
        "            nn.Flatten()\n",
        "        )\n",
        "\n",
        "        self.fully_connected = nn.Sequential(\n",
        "            nn.Linear(128, 32),\n",
        "            nn.PReLU(),\n",
        "\n",
        "            nn.Linear(32, 1),\n",
        "            nn.Sigmoid()\n",
        "        )\n",
        "    \n",
        "    def forward(self, xb):\n",
        "        out = self.conv(xb)\n",
        "        out = self.fully_connected(out)\n",
        "\n",
        "        return out\n"
      ],
      "execution_count": null,
      "outputs": []
    },
    {
      "cell_type": "code",
      "metadata": {
        "colab": {
          "base_uri": "https://localhost:8080/"
        },
        "id": "SGGm9h3oZwHO",
        "outputId": "2f35b671-3023-4d52-8769-10d7b553a121"
      },
      "source": [
        "generator = ConvSubPixel()\n",
        "discriminator = Discriminator()\n",
        "to_device(generator, device)\n",
        "to_device(discriminator, device)\n",
        "\n",
        "def count_parameters(model):\n",
        "    return sum([p.numel() for p in model.parameters() if p.requires_grad])\n",
        "\n",
        "print(\"Learnable parameters - Generator:\", count_parameters(generator), \" Discriminator: \", count_parameters(discriminator))\n",
        "\n",
        "def upscale_image(img):\n",
        "    out = generator(img)\n",
        "    return out"
      ],
      "execution_count": null,
      "outputs": [
        {
          "output_type": "stream",
          "text": [
            "Learnable parameters - Generator: 47311  Discriminator:  190121\n"
          ],
          "name": "stdout"
        }
      ]
    },
    {
      "cell_type": "code",
      "metadata": {
        "colab": {
          "base_uri": "https://localhost:8080/",
          "height": 262
        },
        "id": "EleIaJjIZwHP",
        "outputId": "7f03f709-f56f-4d25-d253-d1008e11312b"
      },
      "source": [
        "for lr, hr in dataloader:\n",
        "    print(upscale_image(lr).detach()[0].shape)\n",
        "    bilinear = upsample(lr)[0]\n",
        "    display_imgs([lr[0], bilinear, upscale_image(lr).detach()[0], hr[0]])\n",
        "    break"
      ],
      "execution_count": null,
      "outputs": [
        {
          "output_type": "stream",
          "text": [
            "torch.Size([3, 128, 128])\n"
          ],
          "name": "stdout"
        },
        {
          "output_type": "display_data",
          "data": {
            "image/png": "[encoded data removed]",
            "text/plain": [
              "<Figure size 1152x288 with 4 Axes>"
            ]
          },
          "metadata": {
            "tags": [],
            "needs_background": "light"
          }
        }
      ]
    },
    {
      "cell_type": "code",
      "metadata": {
        "id": "udfxOyGyZwHP"
      },
      "source": [
        "train_history = []\n",
        "def train(num_epochs, lr, nbatches=-1, gen_headstart=0):\n",
        "    opt_generator = torch.optim.Adam(generator.parameters(), lr=lr)\n",
        "    opt_discriminator = torch.optim.Adam(discriminator.parameters(), lr=lr)\n",
        "\n",
        "    discriminator_loss_fun = nn.BCELoss()\n",
        "    content_loss_fun = loss_fun\n",
        "    \n",
        "    generator.train()\n",
        "    \n",
        "    for epoch in range(num_epochs): \n",
        "        d_fake_loss = []\n",
        "        d_real_loss = []\n",
        "        g_gan_loss = []\n",
        "        g_cont_loss = []\n",
        "\n",
        "        i = 0\n",
        "        for lowres, highres in tqdm(dataloader):\n",
        "            if nbatches != -1 and i > nbatches:\n",
        "                break\n",
        "            \n",
        "            # Reset gradients\n",
        "            opt_generator.zero_grad()\n",
        "            opt_discriminator.zero_grad()\n",
        "\n",
        "            ## Train discriminator\n",
        "            # Train on HR images\n",
        "            real_predictions = discriminator(highres)\n",
        "            real_loss = discriminator_loss_fun(real_predictions, torch.ones(highres.size(0), 1, device=device))\n",
        "            d_real_loss.append(torch.mean(real_loss).item())\n",
        "            \n",
        "            # Train on SR images\n",
        "            fakes = generator(lowres)\n",
        "            fake_predictions = discriminator(fakes)\n",
        "            fake_loss = discriminator_loss_fun(fake_predictions, torch.zeros(highres.size(0), 1, device=device))\n",
        "            d_fake_loss.append(torch.mean(fake_loss).item())\n",
        "\n",
        "            d_loss = real_loss + fake_loss\n",
        "            d_loss.backward()\n",
        "\n",
        "            if i < gen_headstart:\n",
        "                opt_discriminator.step()\n",
        "\n",
        "            ## Train Generator\n",
        "            fakes = generator(lowres)\n",
        "            fake_predictions = discriminator(fakes)\n",
        "            gen_loss = discriminator_loss_fun(fake_predictions, torch.ones(highres.size(0), 1, device=device))\n",
        "            cont_loss = content_loss_fun(fakes, highres)\n",
        "\n",
        "            g_loss = cont_loss # + gen_loss\n",
        "            g_gan_loss.append(torch.mean(gen_loss).item())\n",
        "            g_cont_loss.append(torch.mean(cont_loss).item())\n",
        "            \n",
        "            g_loss.backward()\n",
        "            \n",
        "            opt_generator.step()\n",
        "            i += 1\n",
        "        \n",
        "        avg_d_fake_loss = sum(d_fake_loss) / len(d_fake_loss)\n",
        "        avg_d_real_loss = sum(d_real_loss) / len(d_real_loss)\n",
        "        avg_g_gan_loss = sum(g_gan_loss) / len(g_gan_loss)\n",
        "        avg_g_cont_loss = sum(g_cont_loss) / len(g_cont_loss)\n",
        "        train_history.append([avg_d_fake_loss, avg_d_real_loss, avg_g_gen_loss, avg_g_cont_loss])\n",
        "        print('Epoch [{}/{}], d_fake: {:.4f}, d_real: {:.4f}, g_gan: {:.4f}, g_cont: {:.4f}'\n",
        "            .format(epoch+1, num_epochs, avg_d_fake_loss, avg_d_real_loss, avg_g_gan_loss, avg_g_cont_loss))\n",
        "        torch.save(discriminator.state_dict(), '/content/drive/MyDrive/Colab Notebooks/discriminator.ckpt')\n",
        "        torch.save(generator.state_dict(), '/content/drive/MyDrive/Colab Notebooks/generator.ckpt')\n",
        "        \n",
        "    if len(train_history) > 1:\n",
        "        plt.plot(train_history)\n",
        "        plt.show()"
      ],
      "execution_count": null,
      "outputs": []
    },
    {
      "cell_type": "code",
      "metadata": {
        "colab": {
          "base_uri": "https://localhost:8080/"
        },
        "id": "rjbwUquOZwHP",
        "outputId": "cbbb3c79-ee1a-452a-a100-441072c40621"
      },
      "source": [
        "discriminator.load_state_dict(torch.load('/content/drive/MyDrive/Colab Notebooks/discriminator.ckpt'))\n",
        "generator.load_state_dict(torch.load('/content/drive/MyDrive/Colab Notebooks/generator.ckpt'))"
      ],
      "execution_count": null,
      "outputs": [
        {
          "output_type": "execute_result",
          "data": {
            "text/plain": [
              "<All keys matched successfully>"
            ]
          },
          "metadata": {
            "tags": []
          },
          "execution_count": 13
        }
      ]
    },
    {
      "cell_type": "code",
      "metadata": {
        "colab": {
          "base_uri": "https://localhost:8080/",
          "height": 331,
          "referenced_widgets": [
            "c64de03b6e8d4ef8a62324d55c9ca3ab",
            "5e405b6157334f8985de00565c8e4724",
            "86f14f9d3e0149b9abb382f19e7394b1",
            "e28ec762b2174d75a38f3f6ce4697222",
            "1f014c4d267249b9aa5a98710b0e63b9",
            "f961d5c692be43a5bb9ecadb1cdb444a",
            "1852e8f8338942b786acd7e4512d384e",
            "a15bfcca2edd4146a772d48e5f0dd0c1"
          ]
        },
        "id": "D-FA91azfLp_",
        "outputId": "2ced2639-954f-4870-aa73-386dfd20256e"
      },
      "source": [
        "train(10, 5e-4, gen_headstart=5)"
      ],
      "execution_count": null,
      "outputs": [
        {
          "output_type": "display_data",
          "data": {
            "application/vnd.jupyter.widget-view+json": {
              "model_id": "c64de03b6e8d4ef8a62324d55c9ca3ab",
              "version_minor": 0,
              "version_major": 2
            },
            "text/plain": [
              "HBox(children=(FloatProgress(value=0.0, max=244.0), HTML(value='')))"
            ]
          },
          "metadata": {
            "tags": []
          }
        },
        {
          "output_type": "stream",
          "text": [
            "\n"
          ],
          "name": "stdout"
        },
        {
          "output_type": "error",
          "ename": "NameError",
          "evalue": "ignored",
          "traceback": [
            "\u001b[0;31m---------------------------------------------------------------------------\u001b[0m",
            "\u001b[0;31mNameError\u001b[0m                                 Traceback (most recent call last)",
            "\u001b[0;32m<ipython-input-18-72e138efd477>\u001b[0m in \u001b[0;36m<module>\u001b[0;34m()\u001b[0m\n\u001b[0;32m----> 1\u001b[0;31m \u001b[0mtrain\u001b[0m\u001b[0;34m(\u001b[0m\u001b[0;36m10\u001b[0m\u001b[0;34m,\u001b[0m \u001b[0;36m5e-4\u001b[0m\u001b[0;34m,\u001b[0m \u001b[0mgen_headstart\u001b[0m\u001b[0;34m=\u001b[0m\u001b[0;36m5\u001b[0m\u001b[0;34m)\u001b[0m\u001b[0;34m\u001b[0m\u001b[0;34m\u001b[0m\u001b[0m\n\u001b[0m",
            "\u001b[0;32m<ipython-input-17-ffb65e33e5a3>\u001b[0m in \u001b[0;36mtrain\u001b[0;34m(num_epochs, lr, nbatches, gen_headstart)\u001b[0m\n\u001b[1;32m     61\u001b[0m         \u001b[0mavg_g_gan_loss\u001b[0m \u001b[0;34m=\u001b[0m \u001b[0msum\u001b[0m\u001b[0;34m(\u001b[0m\u001b[0mg_gan_loss\u001b[0m\u001b[0;34m)\u001b[0m \u001b[0;34m/\u001b[0m \u001b[0mlen\u001b[0m\u001b[0;34m(\u001b[0m\u001b[0mg_gan_loss\u001b[0m\u001b[0;34m)\u001b[0m\u001b[0;34m\u001b[0m\u001b[0;34m\u001b[0m\u001b[0m\n\u001b[1;32m     62\u001b[0m         \u001b[0mavg_g_cont_loss\u001b[0m \u001b[0;34m=\u001b[0m \u001b[0msum\u001b[0m\u001b[0;34m(\u001b[0m\u001b[0mg_cont_loss\u001b[0m\u001b[0;34m)\u001b[0m \u001b[0;34m/\u001b[0m \u001b[0mlen\u001b[0m\u001b[0;34m(\u001b[0m\u001b[0mg_cont_loss\u001b[0m\u001b[0;34m)\u001b[0m\u001b[0;34m\u001b[0m\u001b[0;34m\u001b[0m\u001b[0m\n\u001b[0;32m---> 63\u001b[0;31m         \u001b[0mtrain_history\u001b[0m\u001b[0;34m.\u001b[0m\u001b[0mappend\u001b[0m\u001b[0;34m(\u001b[0m\u001b[0;34m[\u001b[0m\u001b[0mavg_d_fake_loss\u001b[0m\u001b[0;34m,\u001b[0m \u001b[0mavg_d_real_loss\u001b[0m\u001b[0;34m,\u001b[0m \u001b[0mavg_g_gen_loss\u001b[0m\u001b[0;34m,\u001b[0m \u001b[0mavg_g_cont_loss\u001b[0m\u001b[0;34m]\u001b[0m\u001b[0;34m)\u001b[0m\u001b[0;34m\u001b[0m\u001b[0;34m\u001b[0m\u001b[0m\n\u001b[0m\u001b[1;32m     64\u001b[0m         print('Epoch [{}/{}], d_fake: {:.4f}, d_real: {:.4f}, g_gan: {:.4f}, g_cont: {:.4f}'\n\u001b[1;32m     65\u001b[0m             .format(epoch+1, num_epochs, avg_d_fake_loss, avg_d_real_loss, avg_g_gan_loss, avg_g_cont_loss))\n",
            "\u001b[0;31mNameError\u001b[0m: name 'avg_g_gen_loss' is not defined"
          ]
        }
      ]
    },
    {
      "cell_type": "code",
      "metadata": {
        "colab": {
          "base_uri": "https://localhost:8080/",
          "height": 331,
          "referenced_widgets": [
            "2e6d5a4c8be945e5aa2d83885f13c400",
            "ca41a502284842e497deae777f197e96",
            "c6325c0e129c44b4a279bcf07a4649d5",
            "a2ae75bb715c493f8970e3d3dd5fe281",
            "c5fb444e0cfd4025b7962709cd4d124a",
            "340915558c81434885f812e55c58a9ec",
            "489f113ddd254f81acf09a52d63174f0",
            "f812199881394f989cf52dc42f154474"
          ]
        },
        "id": "hAORQTMSZwHP",
        "scrolled": true,
        "outputId": "4f5a2fcd-26ba-4e6b-ccad-0a5fa6231c86"
      },
      "source": [
        "train(10, 1e-3)\n"
      ],
      "execution_count": null,
      "outputs": [
        {
          "output_type": "display_data",
          "data": {
            "application/vnd.jupyter.widget-view+json": {
              "model_id": "2e6d5a4c8be945e5aa2d83885f13c400",
              "version_minor": 0,
              "version_major": 2
            },
            "text/plain": [
              "HBox(children=(FloatProgress(value=0.0, max=244.0), HTML(value='')))"
            ]
          },
          "metadata": {
            "tags": []
          }
        },
        {
          "output_type": "stream",
          "text": [
            "\n"
          ],
          "name": "stdout"
        },
        {
          "output_type": "error",
          "ename": "NameError",
          "evalue": "ignored",
          "traceback": [
            "\u001b[0;31m---------------------------------------------------------------------------\u001b[0m",
            "\u001b[0;31mNameError\u001b[0m                                 Traceback (most recent call last)",
            "\u001b[0;32m<ipython-input-16-7adf5d0ee538>\u001b[0m in \u001b[0;36m<module>\u001b[0;34m()\u001b[0m\n\u001b[0;32m----> 1\u001b[0;31m \u001b[0mtrain\u001b[0m\u001b[0;34m(\u001b[0m\u001b[0;36m10\u001b[0m\u001b[0;34m,\u001b[0m \u001b[0;36m1e-3\u001b[0m\u001b[0;34m)\u001b[0m\u001b[0;34m\u001b[0m\u001b[0;34m\u001b[0m\u001b[0m\n\u001b[0m",
            "\u001b[0;32m<ipython-input-15-5672ddbc96f6>\u001b[0m in \u001b[0;36mtrain\u001b[0;34m(num_epochs, lr, nbatches, gen_headstart)\u001b[0m\n\u001b[1;32m     61\u001b[0m         \u001b[0mavg_g_gan_loss\u001b[0m \u001b[0;34m=\u001b[0m \u001b[0msum\u001b[0m\u001b[0;34m(\u001b[0m\u001b[0mg_gan_loss\u001b[0m\u001b[0;34m)\u001b[0m \u001b[0;34m/\u001b[0m \u001b[0mlen\u001b[0m\u001b[0;34m(\u001b[0m\u001b[0mg_gan_loss\u001b[0m\u001b[0;34m)\u001b[0m\u001b[0;34m\u001b[0m\u001b[0;34m\u001b[0m\u001b[0m\n\u001b[1;32m     62\u001b[0m         \u001b[0mavg_g_cont_loss\u001b[0m \u001b[0;34m=\u001b[0m \u001b[0msum\u001b[0m\u001b[0;34m(\u001b[0m\u001b[0mg_cont_loss\u001b[0m\u001b[0;34m)\u001b[0m \u001b[0;34m/\u001b[0m \u001b[0mlen\u001b[0m\u001b[0;34m(\u001b[0m\u001b[0mg_cont_loss\u001b[0m\u001b[0;34m)\u001b[0m\u001b[0;34m\u001b[0m\u001b[0;34m\u001b[0m\u001b[0m\n\u001b[0;32m---> 63\u001b[0;31m         \u001b[0mtrain_history\u001b[0m\u001b[0;34m.\u001b[0m\u001b[0mappend\u001b[0m\u001b[0;34m(\u001b[0m\u001b[0;34m[\u001b[0m\u001b[0mavg_d_fake_loss\u001b[0m\u001b[0;34m,\u001b[0m \u001b[0mavg_d_real_loss\u001b[0m\u001b[0;34m,\u001b[0m \u001b[0mavg_g_tot_loss\u001b[0m\u001b[0;34m]\u001b[0m\u001b[0;34m)\u001b[0m\u001b[0;34m\u001b[0m\u001b[0;34m\u001b[0m\u001b[0m\n\u001b[0m\u001b[1;32m     64\u001b[0m         print('Epoch [{}/{}], d_fake: {:.4f}, d_real: {:.4f}, g_gan: {:.4f}, g_cont: {:.4f}'\n\u001b[1;32m     65\u001b[0m             .format(epoch+1, num_epochs, avg_d_fake_loss, avg_d_real_loss, avg_g_gan_loss, avg_g_cont_loss))\n",
            "\u001b[0;31mNameError\u001b[0m: name 'avg_g_tot_loss' is not defined"
          ]
        }
      ]
    },
    {
      "cell_type": "markdown",
      "metadata": {
        "id": "11YzTzGHZwHQ"
      },
      "source": [
        "## Things that did not work\n",
        "\n",
        "A U-net of convolutional and deconvolutional layers did not work. At best this achieved the identity function, which is of course useless. Using res-net seems to help, but again, this makes it much easier to achieve the identity function, which means it might not be a sign that it works after all.\n",
        "\n",
        "The first thing that was working was 3 convolutions from $3\\times64\\times64\\rightarrow768\\times8\\times8$ and then a sub-pixel convolution $768\\times8\\times8\\rightarrow3\\times128\\times128$.\n",
        "\n",
        "![First working attemp model](https://github.com/Ragusaen/FuturamaSuperResolution/blob/main/resources/fwa.png?raw=1)\n",
        "\n",
        "The result of a single subframe is shown here:\n",
        "\n",
        "![First working attempt, subframe example](https://github.com/Ragusaen/FuturamaSuperResolution/blob/main/resources/fwa_subframe.png?raw=1)\n",
        "\n",
        "When observing a single subframe, this looks very promising. You can notice that it looks a bit ragged, and there is also a small amount of color noise. When considering an entire frame, as shown below, the problems become more apparent.\n",
        "\n",
        "![First working attempt, full frame original](https://github.com/Ragusaen/FuturamaSuperResolution/blob/main/resources/fwa_original.png?raw=1)\n",
        "![First working attempt, full frame upscaled](https://github.com/Ragusaen/FuturamaSuperResolution/blob/main/resources/fwa_upscaled.png?raw=1)\n",
        "\n",
        "It is definitely not bad, but it is also not great. This model works really well in dealing with "
      ]
    },
    {
      "cell_type": "code",
      "metadata": {
        "colab": {
          "base_uri": "https://localhost:8080/"
        },
        "id": "vWlIgEm0ZwHQ",
        "outputId": "fccfde33-9776-4b4e-9999-ab7220ad51b0"
      },
      "source": [
        "# Switch model to evaluation mode to not keep track of gradients\n",
        "model.eval()\n",
        "\n",
        "# Get video\n",
        "cap = cv2.VideoCapture(\"/content/drive/MyDrive/Colab Notebooks/video/lowres_sample0.mkv\")\n",
        "\n",
        "video_resolution = (640, 480)\n",
        "\n",
        "cap.set(cv2.CAP_PROP_POS_FRAMES, 12000)\n",
        "\n",
        "# Number of subframes per axis per frame\n",
        "n_subframes = (math.floor(video_resolution[0] / low_resolution[0]),\n",
        "               math.floor(video_resolution[1] / low_resolution[1]))\n",
        "\n",
        "target_resolution = (n_subframes[0] * high_resolution[0],\n",
        "                     n_subframes[1] * high_resolution[1])\n",
        "\n",
        "_, frame = cap.read()\n",
        "\n",
        "# Resize to actual resolution\n",
        "frame = cv2.resize(frame, video_resolution, interpolation=cv2.INTER_CUBIC)\n",
        "\n",
        "cv2.imwrite('resources/original_frame.png', frame)\n",
        "\n",
        "# Create a new empty image to insert the upscaled into\n",
        "upscaled_image = np.zeros((target_resolution[1], target_resolution[0], 3), np.uint8)\n",
        "\n",
        "normalize = Normalize((0.5, 0.5, 0.5), (0.5, 0.5, 0.5))\n",
        "\n",
        "# Create normalized tensor\n",
        "norm = torch.unsqueeze(normalize(img_to_tensor(frame)), dim=0)\n",
        "\n",
        "# Upscale it using SR model\n",
        "up_tensor = model(norm.cuda()).detach()[0]\n",
        "\n",
        "# Denormalise it and turn it into a opencv2 mat\n",
        "denormed = denorm(up_tensor).cpu()\n",
        "up_mat = denormed[[2,1,0], :, :].permute(1,2,0).numpy() * 256.0\n",
        "\n",
        "cv2.imwrite('resources/upscaled_frame.png', up_mat)\n",
        "        "
      ],
      "execution_count": null,
      "outputs": [
        {
          "output_type": "execute_result",
          "data": {
            "text/plain": [
              "True"
            ]
          },
          "metadata": {
            "tags": []
          },
          "execution_count": 58
        }
      ]
    },
    {
      "cell_type": "code",
      "metadata": {
        "id": "e-B1AGc5ZwHQ",
        "colab": {
          "base_uri": "https://localhost:8080/",
          "height": 231
        },
        "outputId": "6a8e397c-813f-4a44-fbeb-c3a7b2abd9ca"
      },
      "source": [
        "def img_to_tensor(img):\n",
        "    return torch.from_numpy(np.asarray(img)).permute(2,0,1)[[2,1,0], :, :].float() / 256.0\n",
        "\n",
        "if not os.path.exists('highres'):\n",
        "    os.makedirs('highres')\n",
        "    \n",
        "if not os.path.exists('lowres'):\n",
        "    os.makedirs('lowres')\n",
        "\n",
        "cap = cv2.VideoCapture(\"/content/drive/MyDrive/Colab Notebooks/video/sample0.mkv\")\n",
        "\n",
        "s, frame0 = cap.read()\n",
        "\n",
        "# Skip the first 100 frames\n",
        "#cap.set(cv2.CAP_PROP_POS_FRAMES, 1000)\n",
        "\n",
        "cw, ch = high_resolution\n",
        "\n",
        "max_start_crop_x, max_start_crop_y = (frame0.shape[1] - cw, frame0.shape[0] - ch)\n",
        "\n",
        "frames = int(cap.get(cv2.CAP_PROP_FRAME_COUNT) - 5)\n",
        "\n",
        "lowres_data = torch.zeros((frames,3,64,64))\n",
        "highres_data = torch.zeros((frames,3,128,128))\n",
        "\n",
        "i=0\n",
        "for _ in tqdm(range(frames)):\n",
        "    if not cap.isOpened():\n",
        "        break\n",
        "    \n",
        "    ret, frame = cap.read()\n",
        "\n",
        "    if frame is None:\n",
        "      continue\n",
        "    \n",
        "    cx = random.randint(0, max_start_crop_x)\n",
        "    cy = random.randint(0, max_start_crop_y)\n",
        "    \n",
        "    crop = frame[cy:(cy+ch), cx:(cx+cw)]\n",
        "    lowres_crop = cv2.resize(crop, low_resolution, interpolation=cv2.INTER_AREA)\n",
        "    #lowres_upscaled = cv2.resize(lowres_crop, high_resolution, interpolation=cv2.INTER_CUBIC)\n",
        "\n",
        "    lowres_data[i] = img_to_tensor(lowres_crop)\n",
        "    highres_data[i] = img_to_tensor(crop)\n",
        "    i += 1\n",
        "\n",
        "cap.release()"
      ],
      "execution_count": null,
      "outputs": [
        {
          "output_type": "error",
          "ename": "NameError",
          "evalue": "ignored",
          "traceback": [
            "\u001b[0;31m---------------------------------------------------------------------------\u001b[0m",
            "\u001b[0;31mNameError\u001b[0m                                 Traceback (most recent call last)",
            "\u001b[0;32m<ipython-input-57-3294527831bc>\u001b[0m in \u001b[0;36m<module>\u001b[0;34m()\u001b[0m\n\u001b[0;32m----> 1\u001b[0;31m \u001b[0mkmodel\u001b[0m \u001b[0;34m=\u001b[0m \u001b[0mGreyUpscaleRecolor\u001b[0m\u001b[0;34m(\u001b[0m\u001b[0;34m)\u001b[0m\u001b[0;34m\u001b[0m\u001b[0;34m\u001b[0m\u001b[0m\n\u001b[0m\u001b[1;32m      2\u001b[0m \u001b[0mopt\u001b[0m \u001b[0;34m=\u001b[0m \u001b[0mtorch\u001b[0m\u001b[0;34m.\u001b[0m\u001b[0moptim\u001b[0m\u001b[0;34m.\u001b[0m\u001b[0mAdam\u001b[0m\u001b[0;34m(\u001b[0m\u001b[0mkmodel\u001b[0m\u001b[0;34m.\u001b[0m\u001b[0mparameters\u001b[0m\u001b[0;34m(\u001b[0m\u001b[0;34m)\u001b[0m\u001b[0;34m,\u001b[0m \u001b[0mlr\u001b[0m\u001b[0;34m=\u001b[0m\u001b[0;36m1e-3\u001b[0m\u001b[0;34m)\u001b[0m\u001b[0;34m\u001b[0m\u001b[0;34m\u001b[0m\u001b[0m\n\u001b[1;32m      3\u001b[0m \u001b[0mloss_fun\u001b[0m \u001b[0;34m=\u001b[0m \u001b[0mnn\u001b[0m\u001b[0;34m.\u001b[0m\u001b[0mMSELoss\u001b[0m\u001b[0;34m(\u001b[0m\u001b[0mreduction\u001b[0m\u001b[0;34m=\u001b[0m\u001b[0;34m'sum'\u001b[0m\u001b[0;34m)\u001b[0m\u001b[0;34m\u001b[0m\u001b[0;34m\u001b[0m\u001b[0m\n\u001b[1;32m      4\u001b[0m \u001b[0;34m\u001b[0m\u001b[0m\n\u001b[1;32m      5\u001b[0m \u001b[0;32mfor\u001b[0m \u001b[0mlr\u001b[0m\u001b[0;34m,\u001b[0m \u001b[0mhr\u001b[0m \u001b[0;32min\u001b[0m \u001b[0mdataloader\u001b[0m\u001b[0;34m:\u001b[0m\u001b[0;34m\u001b[0m\u001b[0;34m\u001b[0m\u001b[0m\n",
            "\u001b[0;31mNameError\u001b[0m: name 'GreyUpscaleRecolor' is not defined"
          ]
        }
      ]
    }
  ]
}